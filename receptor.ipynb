{
 "cells": [
  {
   "cell_type": "code",
   "execution_count": 102,
   "id": "94859903",
   "metadata": {},
   "outputs": [],
   "source": [
    "import git\n",
    "import time\n",
    "import pickle\n",
    "from tinyec import registry\n",
    "from Crypto.Cipher import AES\n",
    "import hashlib, secrets, binascii"
   ]
  },
  {
   "cell_type": "code",
   "execution_count": 103,
   "id": "7ce769b7",
   "metadata": {},
   "outputs": [],
   "source": [
    "def decrypt_AES_GCM(ciphertext, nonce, authTag, secretKey):\n",
    "    aesCipher = AES.new(secretKey, AES.MODE_GCM, nonce)\n",
    "    plaintext = aesCipher.decrypt_and_verify(ciphertext, authTag)\n",
    "    return plaintext\n",
    "\n",
    "def ecc_point_to_256_bit_key(point):\n",
    "    sha = hashlib.sha256(int.to_bytes(point.x, 32, 'big'))\n",
    "    sha.update(int.to_bytes(point.y, 32, 'big'))\n",
    "    return sha.digest()\n",
    "\n",
    "curve = registry.get_curve('brainpoolP256r1')\n",
    "\n",
    "def decrypt_ECC(encryptedMsg, privKey):\n",
    "    (ciphertext, nonce, authTag, ciphertextPubKey) = encryptedMsg\n",
    "    sharedECCKey = privKey * ciphertextPubKey\n",
    "    secretKey = ecc_point_to_256_bit_key(sharedECCKey)\n",
    "    plaintext = decrypt_AES_GCM(ciphertext, nonce, authTag, secretKey)\n",
    "    return plaintext"
   ]
  },
  {
   "cell_type": "code",
   "execution_count": 101,
   "id": "7b1a3005",
   "metadata": {},
   "outputs": [
    {
     "ename": "GitCommandError",
     "evalue": "Cmd('git') failed due to: exit code(1)\n  cmdline: git push --set-upstream origin main\n  stderr: 'To https://github.com/Chrismsz/TEL252_Central_de_datos.git\n ! [rejected]        main -> main (fetch first)\nerror: failed to push some refs to 'https://github.com/Chrismsz/TEL252_Central_de_datos.git'\nhint: Updates were rejected because the remote contains work that you do\nhint: not have locally. This is usually caused by another repository pushing\nhint: to the same ref. You may want to first integrate the remote changes\nhint: (e.g., 'git pull ...') before pushing again.\nhint: See the 'Note about fast-forwards' in 'git push --help' for details.'",
     "output_type": "error",
     "traceback": [
      "\u001b[0;31m---------------------------------------------------------------------------\u001b[0m",
      "\u001b[0;31mGitCommandError\u001b[0m                           Traceback (most recent call last)",
      "Input \u001b[0;32mIn [101]\u001b[0m, in \u001b[0;36m<cell line: 4>\u001b[0;34m()\u001b[0m\n\u001b[1;32m     10\u001b[0m repo\u001b[38;5;241m.\u001b[39mgit\u001b[38;5;241m.\u001b[39madd(repo\u001b[38;5;241m.\u001b[39mworking_dir)\n\u001b[1;32m     11\u001b[0m commit_output \u001b[38;5;241m=\u001b[39m repo\u001b[38;5;241m.\u001b[39mgit\u001b[38;5;241m.\u001b[39mcommit(m\u001b[38;5;241m=\u001b[39m\u001b[38;5;124m\"\u001b[39m\u001b[38;5;124mLlave pub Update\u001b[39m\u001b[38;5;124m\"\u001b[39m)\n\u001b[0;32m---> 12\u001b[0m push_output \u001b[38;5;241m=\u001b[39m \u001b[43mrepo\u001b[49m\u001b[38;5;241;43m.\u001b[39;49m\u001b[43mgit\u001b[49m\u001b[38;5;241;43m.\u001b[39;49m\u001b[43mpush\u001b[49m\u001b[43m(\u001b[49m\u001b[38;5;124;43m'\u001b[39;49m\u001b[38;5;124;43m--set-upstream\u001b[39;49m\u001b[38;5;124;43m'\u001b[39;49m\u001b[43m,\u001b[49m\u001b[43m \u001b[49m\u001b[43mrepo\u001b[49m\u001b[38;5;241;43m.\u001b[39;49m\u001b[43mremote\u001b[49m\u001b[43m(\u001b[49m\u001b[43m)\u001b[49m\u001b[38;5;241;43m.\u001b[39;49m\u001b[43mname\u001b[49m\u001b[43m,\u001b[49m\u001b[43m \u001b[49m\u001b[38;5;124;43m\"\u001b[39;49m\u001b[38;5;124;43mmain\u001b[39;49m\u001b[38;5;124;43m\"\u001b[39;49m\u001b[43m)\u001b[49m\n\u001b[1;32m     14\u001b[0m time\u001b[38;5;241m.\u001b[39msleep(\u001b[38;5;241m7\u001b[39m)\n\u001b[1;32m     15\u001b[0m repo\u001b[38;5;241m.\u001b[39mremotes\u001b[38;5;241m.\u001b[39morigin\u001b[38;5;241m.\u001b[39mpull()\n",
      "File \u001b[0;32m~/opt/anaconda3/lib/python3.8/site-packages/git/cmd.py:696\u001b[0m, in \u001b[0;36mGit.__getattr__.<locals>.<lambda>\u001b[0;34m(*args, **kwargs)\u001b[0m\n\u001b[1;32m    694\u001b[0m \u001b[38;5;28;01mif\u001b[39;00m name[\u001b[38;5;241m0\u001b[39m] \u001b[38;5;241m==\u001b[39m \u001b[38;5;124m\"\u001b[39m\u001b[38;5;124m_\u001b[39m\u001b[38;5;124m\"\u001b[39m:\n\u001b[1;32m    695\u001b[0m     \u001b[38;5;28;01mreturn\u001b[39;00m LazyMixin\u001b[38;5;241m.\u001b[39m\u001b[38;5;21m__getattr__\u001b[39m(\u001b[38;5;28mself\u001b[39m, name)\n\u001b[0;32m--> 696\u001b[0m \u001b[38;5;28;01mreturn\u001b[39;00m \u001b[38;5;28;01mlambda\u001b[39;00m \u001b[38;5;241m*\u001b[39margs, \u001b[38;5;241m*\u001b[39m\u001b[38;5;241m*\u001b[39mkwargs: \u001b[38;5;28;43mself\u001b[39;49m\u001b[38;5;241;43m.\u001b[39;49m\u001b[43m_call_process\u001b[49m\u001b[43m(\u001b[49m\u001b[43mname\u001b[49m\u001b[43m,\u001b[49m\u001b[43m \u001b[49m\u001b[38;5;241;43m*\u001b[39;49m\u001b[43margs\u001b[49m\u001b[43m,\u001b[49m\u001b[43m \u001b[49m\u001b[38;5;241;43m*\u001b[39;49m\u001b[38;5;241;43m*\u001b[39;49m\u001b[43mkwargs\u001b[49m\u001b[43m)\u001b[49m\n",
      "File \u001b[0;32m~/opt/anaconda3/lib/python3.8/site-packages/git/cmd.py:1270\u001b[0m, in \u001b[0;36mGit._call_process\u001b[0;34m(self, method, *args, **kwargs)\u001b[0m\n\u001b[1;32m   1267\u001b[0m call\u001b[38;5;241m.\u001b[39mappend(dashify(method))\n\u001b[1;32m   1268\u001b[0m call\u001b[38;5;241m.\u001b[39mextend(args_list)\n\u001b[0;32m-> 1270\u001b[0m \u001b[38;5;28;01mreturn\u001b[39;00m \u001b[38;5;28;43mself\u001b[39;49m\u001b[38;5;241;43m.\u001b[39;49m\u001b[43mexecute\u001b[49m\u001b[43m(\u001b[49m\u001b[43mcall\u001b[49m\u001b[43m,\u001b[49m\u001b[43m \u001b[49m\u001b[38;5;241;43m*\u001b[39;49m\u001b[38;5;241;43m*\u001b[39;49m\u001b[43mexec_kwargs\u001b[49m\u001b[43m)\u001b[49m\n",
      "File \u001b[0;32m~/opt/anaconda3/lib/python3.8/site-packages/git/cmd.py:1064\u001b[0m, in \u001b[0;36mGit.execute\u001b[0;34m(self, command, istream, with_extended_output, with_exceptions, as_process, output_stream, stdout_as_string, kill_after_timeout, with_stdout, universal_newlines, shell, env, max_chunk_size, strip_newline_in_stdout, **subprocess_kwargs)\u001b[0m\n\u001b[1;32m   1061\u001b[0m \u001b[38;5;66;03m# END handle debug printing\u001b[39;00m\n\u001b[1;32m   1063\u001b[0m \u001b[38;5;28;01mif\u001b[39;00m with_exceptions \u001b[38;5;129;01mand\u001b[39;00m status \u001b[38;5;241m!=\u001b[39m \u001b[38;5;241m0\u001b[39m:\n\u001b[0;32m-> 1064\u001b[0m     \u001b[38;5;28;01mraise\u001b[39;00m GitCommandError(redacted_command, status, stderr_value, stdout_value)\n\u001b[1;32m   1066\u001b[0m \u001b[38;5;28;01mif\u001b[39;00m \u001b[38;5;28misinstance\u001b[39m(stdout_value, \u001b[38;5;28mbytes\u001b[39m) \u001b[38;5;129;01mand\u001b[39;00m stdout_as_string:  \u001b[38;5;66;03m# could also be output_stream\u001b[39;00m\n\u001b[1;32m   1067\u001b[0m     stdout_value \u001b[38;5;241m=\u001b[39m safe_decode(stdout_value)\n",
      "\u001b[0;31mGitCommandError\u001b[0m: Cmd('git') failed due to: exit code(1)\n  cmdline: git push --set-upstream origin main\n  stderr: 'To https://github.com/Chrismsz/TEL252_Central_de_datos.git\n ! [rejected]        main -> main (fetch first)\nerror: failed to push some refs to 'https://github.com/Chrismsz/TEL252_Central_de_datos.git'\nhint: Updates were rejected because the remote contains work that you do\nhint: not have locally. This is usually caused by another repository pushing\nhint: to the same ref. You may want to first integrate the remote changes\nhint: (e.g., 'git pull ...') before pushing again.\nhint: See the 'Note about fast-forwards' in 'git push --help' for details.'"
     ]
    }
   ],
   "source": [
    "repo = git.Repo(\"/Users/Chris-OSX/Desktop/TEL252_Central_de_datos\")\n",
    "while (True):\n",
    "\n",
    "    privKey = secrets.randbelow(curve.field.n) #b\n",
    "    pubKeyB = privKey * curve.g #B\n",
    "    \n",
    "    with open('pub_keyB.pickle', 'wb') as file_pubKeyB:\n",
    "        pickle.dump(pubKeyB, file_pubKeyB)\n",
    "        \n",
    "    repo.git.add(repo.working_dir)\n",
    "    commit_output = repo.git.commit(m=\"Llave pub Update\")\n",
    "    push_output = repo.git.push('--set-upstream', repo.remote().name, \"main\")\n",
    "        \n",
    "    time.sleep(7)\n",
    "    repo.remotes.origin.pull()\n",
    "\n",
    "    with open('encrypt_data.pickle', 'rb') as file_encrypt_data:\n",
    "        encryptedMsg = pickle.load(file_encrypt_data) #B\n",
    "        \n",
    "    encryptedMsgObj = {\n",
    "    'ciphertext': binascii.hexlify(encryptedMsg[0]),\n",
    "    'nonce': binascii.hexlify(encryptedMsg[1]),\n",
    "    'authTag': binascii.hexlify(encryptedMsg[2]),\n",
    "    'ciphertextPubKey': hex(encryptedMsg[3].x) + hex(encryptedMsg[3].y % 2)[2:]\n",
    "    }\n",
    "    decryptedMsg = decrypt_ECC(encryptedMsg, privKey)\n",
    "    print(\"decrypted msg:\", decryptedMsg.decode('UTF-8'))"
   ]
  },
  {
   "cell_type": "code",
   "execution_count": null,
   "id": "7f697ec9",
   "metadata": {},
   "outputs": [],
   "source": []
  },
  {
   "cell_type": "code",
   "execution_count": null,
   "id": "8d25dacf",
   "metadata": {},
   "outputs": [],
   "source": []
  }
 ],
 "metadata": {
  "kernelspec": {
   "display_name": "Python 3",
   "language": "python",
   "name": "python3"
  },
  "language_info": {
   "codemirror_mode": {
    "name": "ipython",
    "version": 3
   },
   "file_extension": ".py",
   "mimetype": "text/x-python",
   "name": "python",
   "nbconvert_exporter": "python",
   "pygments_lexer": "ipython3",
   "version": "3.8.5"
  }
 },
 "nbformat": 4,
 "nbformat_minor": 5
}
