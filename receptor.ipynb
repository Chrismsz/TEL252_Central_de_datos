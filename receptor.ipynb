{
 "cells": [
  {
   "cell_type": "code",
   "execution_count": 55,
   "id": "8479e17f",
   "metadata": {},
   "outputs": [],
   "source": [
    "import git\n",
    "import time\n",
    "import pickle\n",
    "from tinyec import registry\n",
    "from Crypto.Cipher import AES\n",
    "import hashlib, secrets, binascii"
   ]
  },
  {
   "cell_type": "code",
   "execution_count": 56,
   "id": "481301d5",
   "metadata": {},
   "outputs": [],
   "source": [
    "def decrypt_AES_GCM(ciphertext, nonce, authTag, secretKey):\n",
    "    aesCipher = AES.new(secretKey, AES.MODE_GCM, nonce)\n",
    "    plaintext = aesCipher.decrypt_and_verify(ciphertext, authTag)\n",
    "    return plaintext\n",
    "\n",
    "def ecc_point_to_256_bit_key(point):\n",
    "    sha = hashlib.sha256(int.to_bytes(point.x, 32, 'big'))\n",
    "    sha.update(int.to_bytes(point.y, 32, 'big'))\n",
    "    return sha.digest()\n",
    "\n",
    "curve = registry.get_curve('brainpoolP256r1')\n",
    "\n",
    "def decrypt_ECC(encryptedMsg, privKey):\n",
    "    (ciphertext, nonce, authTag, ciphertextPubKey) = encryptedMsg\n",
    "    sharedECCKey = privKey * ciphertextPubKey\n",
    "    secretKey = ecc_point_to_256_bit_key(sharedECCKey)\n",
    "    plaintext = decrypt_AES_GCM(ciphertext, nonce, authTag, secretKey)\n",
    "    return plaintext"
   ]
  },
  {
   "cell_type": "code",
   "execution_count": 57,
   "id": "5bef62fb",
   "metadata": {},
   "outputs": [
    {
     "ename": "FileNotFoundError",
     "evalue": "[Errno 2] No such file or directory: 'encrypt_data.pickle'",
     "output_type": "error",
     "traceback": [
      "\u001b[0;31m---------------------------------------------------------------------------\u001b[0m",
      "\u001b[0;31mFileNotFoundError\u001b[0m                         Traceback (most recent call last)",
      "Input \u001b[0;32mIn [57]\u001b[0m, in \u001b[0;36m<cell line: 4>\u001b[0;34m()\u001b[0m\n\u001b[1;32m     14\u001b[0m time\u001b[38;5;241m.\u001b[39msleep(\u001b[38;5;241m4\u001b[39m)\n\u001b[1;32m     15\u001b[0m repo\u001b[38;5;241m.\u001b[39mremotes\u001b[38;5;241m.\u001b[39morigin\u001b[38;5;241m.\u001b[39mpull()\n\u001b[0;32m---> 17\u001b[0m \u001b[38;5;28;01mwith\u001b[39;00m \u001b[38;5;28;43mopen\u001b[39;49m\u001b[43m(\u001b[49m\u001b[38;5;124;43m'\u001b[39;49m\u001b[38;5;124;43mencrypt_data.pickle\u001b[39;49m\u001b[38;5;124;43m'\u001b[39;49m\u001b[43m,\u001b[49m\u001b[43m \u001b[49m\u001b[38;5;124;43m'\u001b[39;49m\u001b[38;5;124;43mrb\u001b[39;49m\u001b[38;5;124;43m'\u001b[39;49m\u001b[43m)\u001b[49m \u001b[38;5;28;01mas\u001b[39;00m f:\n\u001b[1;32m     18\u001b[0m     encryptedMsg \u001b[38;5;241m=\u001b[39m pickle\u001b[38;5;241m.\u001b[39mload(f) \u001b[38;5;66;03m#B\u001b[39;00m\n\u001b[1;32m     20\u001b[0m encryptedMsgObj \u001b[38;5;241m=\u001b[39m {\n\u001b[1;32m     21\u001b[0m \u001b[38;5;124m'\u001b[39m\u001b[38;5;124mciphertext\u001b[39m\u001b[38;5;124m'\u001b[39m: binascii\u001b[38;5;241m.\u001b[39mhexlify(encryptedMsg[\u001b[38;5;241m0\u001b[39m]),\n\u001b[1;32m     22\u001b[0m \u001b[38;5;124m'\u001b[39m\u001b[38;5;124mnonce\u001b[39m\u001b[38;5;124m'\u001b[39m: binascii\u001b[38;5;241m.\u001b[39mhexlify(encryptedMsg[\u001b[38;5;241m1\u001b[39m]),\n\u001b[1;32m     23\u001b[0m \u001b[38;5;124m'\u001b[39m\u001b[38;5;124mauthTag\u001b[39m\u001b[38;5;124m'\u001b[39m: binascii\u001b[38;5;241m.\u001b[39mhexlify(encryptedMsg[\u001b[38;5;241m2\u001b[39m]),\n\u001b[1;32m     24\u001b[0m \u001b[38;5;124m'\u001b[39m\u001b[38;5;124mciphertextPubKey\u001b[39m\u001b[38;5;124m'\u001b[39m: \u001b[38;5;28mhex\u001b[39m(encryptedMsg[\u001b[38;5;241m3\u001b[39m]\u001b[38;5;241m.\u001b[39mx) \u001b[38;5;241m+\u001b[39m \u001b[38;5;28mhex\u001b[39m(encryptedMsg[\u001b[38;5;241m3\u001b[39m]\u001b[38;5;241m.\u001b[39my \u001b[38;5;241m%\u001b[39m \u001b[38;5;241m2\u001b[39m)[\u001b[38;5;241m2\u001b[39m:]\n\u001b[1;32m     25\u001b[0m }\n",
      "\u001b[0;31mFileNotFoundError\u001b[0m: [Errno 2] No such file or directory: 'encrypt_data.pickle'"
     ]
    }
   ],
   "source": [
    "repo = git.Repo(\"/Users/Chris-OSX/Desktop/TEL252_Central_de_datos\")\n",
    "while (True):\n",
    "    \n",
    "    privKey = secrets.randbelow(curve.field.n) #b\n",
    "    pubKeyB = privKey * curve.g #B\n",
    "\n",
    "    with open('pub_keyB.pickle', 'wb') as f:\n",
    "        pickle.dump(pubKeyB, f)\n",
    "        \n",
    "    repo.git.add(repo.working_dir)\n",
    "    commit_output = repo.git.commit(m=\"Llave pub Update\")\n",
    "    push_output = repo.git.push('--set-upstream', repo.remote().name, \"main\")\n",
    "        \n",
    "    time.sleep(4)\n",
    "    repo.remotes.origin.pull()\n",
    "\n",
    "    with open('encrypt_data.pickle', 'rb') as f:\n",
    "        encryptedMsg = pickle.load(f) #B\n",
    "        \n",
    "    encryptedMsgObj = {\n",
    "    'ciphertext': binascii.hexlify(encryptedMsg[0]),\n",
    "    'nonce': binascii.hexlify(encryptedMsg[1]),\n",
    "    'authTag': binascii.hexlify(encryptedMsg[2]),\n",
    "    'ciphertextPubKey': hex(encryptedMsg[3].x) + hex(encryptedMsg[3].y % 2)[2:]\n",
    "    }\n",
    "    decryptedMsg = decrypt_ECC(encryptedMsg, privKey)\n",
    "    print(\"decrypted msg:\", decryptedMsg.decode('UTF-8'))"
   ]
  },
  {
   "cell_type": "code",
   "execution_count": 60,
   "id": "2c8d6f43",
   "metadata": {},
   "outputs": [
    {
     "data": {
      "text/plain": [
       "[<git.remote.FetchInfo at 0x7f7f0cdf5ae0>]"
      ]
     },
     "execution_count": 60,
     "metadata": {},
     "output_type": "execute_result"
    }
   ],
   "source": [
    "repo.remotes.origin.pull()"
   ]
  },
  {
   "cell_type": "code",
   "execution_count": null,
   "id": "a852efe1",
   "metadata": {},
   "outputs": [],
   "source": []
  }
 ],
 "metadata": {
  "kernelspec": {
   "display_name": "Python 3",
   "language": "python",
   "name": "python3"
  },
  "language_info": {
   "codemirror_mode": {
    "name": "ipython",
    "version": 3
   },
   "file_extension": ".py",
   "mimetype": "text/x-python",
   "name": "python",
   "nbconvert_exporter": "python",
   "pygments_lexer": "ipython3",
   "version": "3.8.5"
  }
 },
 "nbformat": 4,
 "nbformat_minor": 5
}
