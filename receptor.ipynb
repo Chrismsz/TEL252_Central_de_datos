{
 "cells": [
  {
   "cell_type": "code",
   "execution_count": 77,
   "id": "cd00f42c",
   "metadata": {},
   "outputs": [],
   "source": [
    "import git\n",
    "import time\n",
    "import pickle\n",
    "from tinyec import registry\n",
    "from Crypto.Cipher import AES\n",
    "import hashlib, secrets, binascii"
   ]
  },
  {
   "cell_type": "code",
   "execution_count": 78,
   "id": "c8f3396f",
   "metadata": {},
   "outputs": [],
   "source": [
    "def decrypt_AES_GCM(ciphertext, nonce, authTag, secretKey):\n",
    "    aesCipher = AES.new(secretKey, AES.MODE_GCM, nonce)\n",
    "    plaintext = aesCipher.decrypt_and_verify(ciphertext, authTag)\n",
    "    return plaintext\n",
    "\n",
    "def ecc_point_to_256_bit_key(point):\n",
    "    sha = hashlib.sha256(int.to_bytes(point.x, 32, 'big'))\n",
    "    sha.update(int.to_bytes(point.y, 32, 'big'))\n",
    "    return sha.digest()\n",
    "\n",
    "curve = registry.get_curve('brainpoolP256r1')\n",
    "\n",
    "def decrypt_ECC(encryptedMsg, privKey):\n",
    "    (ciphertext, nonce, authTag, ciphertextPubKey) = encryptedMsg\n",
    "    sharedECCKey = privKey * ciphertextPubKey\n",
    "    secretKey = ecc_point_to_256_bit_key(sharedECCKey)\n",
    "    plaintext = decrypt_AES_GCM(ciphertext, nonce, authTag, secretKey)\n",
    "    return plaintext"
   ]
  },
  {
   "cell_type": "code",
   "execution_count": 82,
   "id": "56d541f7",
   "metadata": {},
   "outputs": [],
   "source": [
    "repo = git.Repo(\"/Users/Chris-OSX/Desktop/TEL252_Central_de_datos\")"
   ]
  },
  {
   "cell_type": "code",
   "execution_count": 95,
   "id": "87728ce1",
   "metadata": {},
   "outputs": [
    {
     "ename": "BrokenPipeError",
     "evalue": "[Errno 32] Broken pipe",
     "output_type": "error",
     "traceback": [
      "\u001b[0;31m---------------------------------------------------------------------------\u001b[0m",
      "\u001b[0;31mBrokenPipeError\u001b[0m                           Traceback (most recent call last)",
      "Input \u001b[0;32mIn [95]\u001b[0m, in \u001b[0;36m<cell line: 2>\u001b[0;34m()\u001b[0m\n\u001b[1;32m      1\u001b[0m \u001b[38;5;28;01mwhile\u001b[39;00m (\u001b[38;5;28;01mTrue\u001b[39;00m):\n\u001b[0;32m----> 2\u001b[0m     \u001b[43mrepo\u001b[49m\u001b[38;5;241;43m.\u001b[39;49m\u001b[43mremotes\u001b[49m\u001b[38;5;241;43m.\u001b[39;49m\u001b[43morigin\u001b[49m\u001b[38;5;241;43m.\u001b[39;49m\u001b[43mpull\u001b[49m\u001b[43m(\u001b[49m\u001b[43m)\u001b[49m\n\u001b[1;32m      3\u001b[0m     privKey \u001b[38;5;241m=\u001b[39m secrets\u001b[38;5;241m.\u001b[39mrandbelow(curve\u001b[38;5;241m.\u001b[39mfield\u001b[38;5;241m.\u001b[39mn) \u001b[38;5;66;03m#b\u001b[39;00m\n\u001b[1;32m      4\u001b[0m     pubKeyB \u001b[38;5;241m=\u001b[39m privKey \u001b[38;5;241m*\u001b[39m curve\u001b[38;5;241m.\u001b[39mg \u001b[38;5;66;03m#B\u001b[39;00m\n",
      "File \u001b[0;32m~/opt/anaconda3/lib/python3.8/site-packages/git/remote.py:996\u001b[0m, in \u001b[0;36mRemote.pull\u001b[0;34m(self, refspec, progress, kill_after_timeout, **kwargs)\u001b[0m\n\u001b[1;32m    992\u001b[0m kwargs \u001b[38;5;241m=\u001b[39m add_progress(kwargs, \u001b[38;5;28mself\u001b[39m\u001b[38;5;241m.\u001b[39mrepo\u001b[38;5;241m.\u001b[39mgit, progress)\n\u001b[1;32m    993\u001b[0m proc \u001b[38;5;241m=\u001b[39m \u001b[38;5;28mself\u001b[39m\u001b[38;5;241m.\u001b[39mrepo\u001b[38;5;241m.\u001b[39mgit\u001b[38;5;241m.\u001b[39mpull(\n\u001b[1;32m    994\u001b[0m     \u001b[38;5;28mself\u001b[39m, refspec, with_stdout\u001b[38;5;241m=\u001b[39m\u001b[38;5;28;01mFalse\u001b[39;00m, as_process\u001b[38;5;241m=\u001b[39m\u001b[38;5;28;01mTrue\u001b[39;00m, universal_newlines\u001b[38;5;241m=\u001b[39m\u001b[38;5;28;01mTrue\u001b[39;00m, v\u001b[38;5;241m=\u001b[39m\u001b[38;5;28;01mTrue\u001b[39;00m, \u001b[38;5;241m*\u001b[39m\u001b[38;5;241m*\u001b[39mkwargs\n\u001b[1;32m    995\u001b[0m )\n\u001b[0;32m--> 996\u001b[0m res \u001b[38;5;241m=\u001b[39m \u001b[38;5;28;43mself\u001b[39;49m\u001b[38;5;241;43m.\u001b[39;49m\u001b[43m_get_fetch_info_from_stderr\u001b[49m\u001b[43m(\u001b[49m\u001b[43mproc\u001b[49m\u001b[43m,\u001b[49m\u001b[43m \u001b[49m\u001b[43mprogress\u001b[49m\u001b[43m,\u001b[49m\u001b[43m \u001b[49m\u001b[43mkill_after_timeout\u001b[49m\u001b[38;5;241;43m=\u001b[39;49m\u001b[43mkill_after_timeout\u001b[49m\u001b[43m)\u001b[49m\n\u001b[1;32m    997\u001b[0m \u001b[38;5;28;01mif\u001b[39;00m \u001b[38;5;28mhasattr\u001b[39m(\u001b[38;5;28mself\u001b[39m\u001b[38;5;241m.\u001b[39mrepo\u001b[38;5;241m.\u001b[39modb, \u001b[38;5;124m\"\u001b[39m\u001b[38;5;124mupdate_cache\u001b[39m\u001b[38;5;124m\"\u001b[39m):\n\u001b[1;32m    998\u001b[0m     \u001b[38;5;28mself\u001b[39m\u001b[38;5;241m.\u001b[39mrepo\u001b[38;5;241m.\u001b[39modb\u001b[38;5;241m.\u001b[39mupdate_cache()\n",
      "File \u001b[0;32m~/opt/anaconda3/lib/python3.8/site-packages/git/remote.py:855\u001b[0m, in \u001b[0;36mRemote._get_fetch_info_from_stderr\u001b[0;34m(self, proc, progress, kill_after_timeout)\u001b[0m\n\u001b[1;32m    853\u001b[0m \u001b[38;5;28;01mfor\u001b[39;00m err_line, fetch_line \u001b[38;5;129;01min\u001b[39;00m \u001b[38;5;28mzip\u001b[39m(fetch_info_lines, fetch_head_info):\n\u001b[1;32m    854\u001b[0m     \u001b[38;5;28;01mtry\u001b[39;00m:\n\u001b[0;32m--> 855\u001b[0m         output\u001b[38;5;241m.\u001b[39mappend(\u001b[43mFetchInfo\u001b[49m\u001b[38;5;241;43m.\u001b[39;49m\u001b[43m_from_line\u001b[49m\u001b[43m(\u001b[49m\u001b[38;5;28;43mself\u001b[39;49m\u001b[38;5;241;43m.\u001b[39;49m\u001b[43mrepo\u001b[49m\u001b[43m,\u001b[49m\u001b[43m \u001b[49m\u001b[43merr_line\u001b[49m\u001b[43m,\u001b[49m\u001b[43m \u001b[49m\u001b[43mfetch_line\u001b[49m\u001b[43m)\u001b[49m)\n\u001b[1;32m    856\u001b[0m     \u001b[38;5;28;01mexcept\u001b[39;00m \u001b[38;5;167;01mValueError\u001b[39;00m \u001b[38;5;28;01mas\u001b[39;00m exc:\n\u001b[1;32m    857\u001b[0m         log\u001b[38;5;241m.\u001b[39mdebug(\u001b[38;5;124m\"\u001b[39m\u001b[38;5;124mCaught error while parsing line: \u001b[39m\u001b[38;5;132;01m%s\u001b[39;00m\u001b[38;5;124m\"\u001b[39m, exc)\n",
      "File \u001b[0;32m~/opt/anaconda3/lib/python3.8/site-packages/git/remote.py:456\u001b[0m, in \u001b[0;36mFetchInfo._from_line\u001b[0;34m(cls, repo, line, fetch_line)\u001b[0m\n\u001b[1;32m    454\u001b[0m     \u001b[38;5;28;01mif\u001b[39;00m control_character \u001b[38;5;241m==\u001b[39m \u001b[38;5;124m\"\u001b[39m\u001b[38;5;124m \u001b[39m\u001b[38;5;124m\"\u001b[39m:\n\u001b[1;32m    455\u001b[0m         split_token \u001b[38;5;241m=\u001b[39m split_token[:\u001b[38;5;241m-\u001b[39m\u001b[38;5;241m1\u001b[39m]\n\u001b[0;32m--> 456\u001b[0m     old_commit \u001b[38;5;241m=\u001b[39m \u001b[43mrepo\u001b[49m\u001b[38;5;241;43m.\u001b[39;49m\u001b[43mrev_parse\u001b[49m\u001b[43m(\u001b[49m\u001b[43moperation\u001b[49m\u001b[38;5;241;43m.\u001b[39;49m\u001b[43msplit\u001b[49m\u001b[43m(\u001b[49m\u001b[43msplit_token\u001b[49m\u001b[43m)\u001b[49m\u001b[43m[\u001b[49m\u001b[38;5;241;43m0\u001b[39;49m\u001b[43m]\u001b[49m\u001b[43m)\u001b[49m\n\u001b[1;32m    457\u001b[0m \u001b[38;5;66;03m# END handle refspec\u001b[39;00m\n\u001b[1;32m    458\u001b[0m \n\u001b[1;32m    459\u001b[0m \u001b[38;5;66;03m# handle FETCH_HEAD and figure out ref type\u001b[39;00m\n\u001b[1;32m    460\u001b[0m \u001b[38;5;66;03m# If we do not specify a target branch like master:refs/remotes/origin/master,\u001b[39;00m\n\u001b[1;32m    461\u001b[0m \u001b[38;5;66;03m# the fetch result is stored in FETCH_HEAD which destroys the rule we usually\u001b[39;00m\n\u001b[1;32m    462\u001b[0m \u001b[38;5;66;03m# have. In that case we use a symbolic reference which is detached\u001b[39;00m\n\u001b[1;32m    463\u001b[0m ref_type: Optional[Type[SymbolicReference]] \u001b[38;5;241m=\u001b[39m \u001b[38;5;28;01mNone\u001b[39;00m\n",
      "File \u001b[0;32m~/opt/anaconda3/lib/python3.8/site-packages/git/repo/fun.py:377\u001b[0m, in \u001b[0;36mrev_parse\u001b[0;34m(repo, rev)\u001b[0m\n\u001b[1;32m    372\u001b[0m     \u001b[38;5;66;03m# END exception handling\u001b[39;00m\n\u001b[1;32m    373\u001b[0m \u001b[38;5;66;03m# END parse loop\u001b[39;00m\n\u001b[1;32m    374\u001b[0m \n\u001b[1;32m    375\u001b[0m \u001b[38;5;66;03m# still no obj ? Its probably a simple name\u001b[39;00m\n\u001b[1;32m    376\u001b[0m \u001b[38;5;28;01mif\u001b[39;00m obj \u001b[38;5;129;01mis\u001b[39;00m \u001b[38;5;28;01mNone\u001b[39;00m:\n\u001b[0;32m--> 377\u001b[0m     obj \u001b[38;5;241m=\u001b[39m cast(Commit_ish, \u001b[43mname_to_object\u001b[49m\u001b[43m(\u001b[49m\u001b[43mrepo\u001b[49m\u001b[43m,\u001b[49m\u001b[43m \u001b[49m\u001b[43mrev\u001b[49m\u001b[43m)\u001b[49m)\n\u001b[1;32m    378\u001b[0m     parsed_to \u001b[38;5;241m=\u001b[39m lr\n\u001b[1;32m    379\u001b[0m \u001b[38;5;66;03m# END handle simple name\u001b[39;00m\n",
      "File \u001b[0;32m~/opt/anaconda3/lib/python3.8/site-packages/git/repo/fun.py:148\u001b[0m, in \u001b[0;36mname_to_object\u001b[0;34m(repo, name, return_ref)\u001b[0m\n\u001b[1;32m    145\u001b[0m \u001b[38;5;28;01mif\u001b[39;00m repo\u001b[38;5;241m.\u001b[39mre_hexsha_shortened\u001b[38;5;241m.\u001b[39mmatch(name):\n\u001b[1;32m    146\u001b[0m     \u001b[38;5;28;01mif\u001b[39;00m \u001b[38;5;28mlen\u001b[39m(name) \u001b[38;5;241m!=\u001b[39m \u001b[38;5;241m40\u001b[39m:\n\u001b[1;32m    147\u001b[0m         \u001b[38;5;66;03m# find long sha for short sha\u001b[39;00m\n\u001b[0;32m--> 148\u001b[0m         hexsha \u001b[38;5;241m=\u001b[39m \u001b[43mshort_to_long\u001b[49m\u001b[43m(\u001b[49m\u001b[43mrepo\u001b[49m\u001b[38;5;241;43m.\u001b[39;49m\u001b[43modb\u001b[49m\u001b[43m,\u001b[49m\u001b[43m \u001b[49m\u001b[43mname\u001b[49m\u001b[43m)\u001b[49m\n\u001b[1;32m    149\u001b[0m     \u001b[38;5;28;01melse\u001b[39;00m:\n\u001b[1;32m    150\u001b[0m         hexsha \u001b[38;5;241m=\u001b[39m name\n",
      "File \u001b[0;32m~/opt/anaconda3/lib/python3.8/site-packages/git/repo/fun.py:127\u001b[0m, in \u001b[0;36mshort_to_long\u001b[0;34m(odb, hexsha)\u001b[0m\n\u001b[1;32m    123\u001b[0m \u001b[38;5;124;03m\"\"\":return: long hexadecimal sha1 from the given less-than-40 byte hexsha\u001b[39;00m\n\u001b[1;32m    124\u001b[0m \u001b[38;5;124;03m    or None if no candidate could be found.\u001b[39;00m\n\u001b[1;32m    125\u001b[0m \u001b[38;5;124;03m:param hexsha: hexsha with less than 40 byte\"\"\"\u001b[39;00m\n\u001b[1;32m    126\u001b[0m \u001b[38;5;28;01mtry\u001b[39;00m:\n\u001b[0;32m--> 127\u001b[0m     \u001b[38;5;28;01mreturn\u001b[39;00m bin_to_hex(\u001b[43modb\u001b[49m\u001b[38;5;241;43m.\u001b[39;49m\u001b[43mpartial_to_complete_sha_hex\u001b[49m\u001b[43m(\u001b[49m\u001b[43mhexsha\u001b[49m\u001b[43m)\u001b[49m)\n\u001b[1;32m    128\u001b[0m \u001b[38;5;28;01mexcept\u001b[39;00m BadObject:\n\u001b[1;32m    129\u001b[0m     \u001b[38;5;28;01mreturn\u001b[39;00m \u001b[38;5;28;01mNone\u001b[39;00m\n",
      "File \u001b[0;32m~/opt/anaconda3/lib/python3.8/site-packages/git/db.py:57\u001b[0m, in \u001b[0;36mGitCmdObjectDB.partial_to_complete_sha_hex\u001b[0;34m(self, partial_hexsha)\u001b[0m\n\u001b[1;32m     51\u001b[0m \u001b[38;5;124;03m\"\"\":return: Full binary 20 byte sha from the given partial hexsha\u001b[39;00m\n\u001b[1;32m     52\u001b[0m \u001b[38;5;124;03m:raise AmbiguousObjectName:\u001b[39;00m\n\u001b[1;32m     53\u001b[0m \u001b[38;5;124;03m:raise BadObject:\u001b[39;00m\n\u001b[1;32m     54\u001b[0m \u001b[38;5;124;03m:note: currently we only raise BadObject as git does not communicate\u001b[39;00m\n\u001b[1;32m     55\u001b[0m \u001b[38;5;124;03m    AmbiguousObjects separately\"\"\"\u001b[39;00m\n\u001b[1;32m     56\u001b[0m \u001b[38;5;28;01mtry\u001b[39;00m:\n\u001b[0;32m---> 57\u001b[0m     hexsha, _typename, _size \u001b[38;5;241m=\u001b[39m \u001b[38;5;28;43mself\u001b[39;49m\u001b[38;5;241;43m.\u001b[39;49m\u001b[43m_git\u001b[49m\u001b[38;5;241;43m.\u001b[39;49m\u001b[43mget_object_header\u001b[49m\u001b[43m(\u001b[49m\u001b[43mpartial_hexsha\u001b[49m\u001b[43m)\u001b[49m\n\u001b[1;32m     58\u001b[0m     \u001b[38;5;28;01mreturn\u001b[39;00m hex_to_bin(hexsha)\n\u001b[1;32m     59\u001b[0m \u001b[38;5;28;01mexcept\u001b[39;00m (GitCommandError, \u001b[38;5;167;01mValueError\u001b[39;00m) \u001b[38;5;28;01mas\u001b[39;00m e:\n",
      "File \u001b[0;32m~/opt/anaconda3/lib/python3.8/site-packages/git/cmd.py:1338\u001b[0m, in \u001b[0;36mGit.get_object_header\u001b[0;34m(self, ref)\u001b[0m\n\u001b[1;32m   1330\u001b[0m \u001b[38;5;124;03m\"\"\"Use this method to quickly examine the type and size of the object behind\u001b[39;00m\n\u001b[1;32m   1331\u001b[0m \u001b[38;5;124;03mthe given ref.\u001b[39;00m\n\u001b[1;32m   1332\u001b[0m \n\u001b[0;32m   (...)\u001b[0m\n\u001b[1;32m   1335\u001b[0m \n\u001b[1;32m   1336\u001b[0m \u001b[38;5;124;03m:return: (hexsha, type_string, size_as_int)\"\"\"\u001b[39;00m\n\u001b[1;32m   1337\u001b[0m cmd \u001b[38;5;241m=\u001b[39m \u001b[38;5;28mself\u001b[39m\u001b[38;5;241m.\u001b[39m_get_persistent_cmd(\u001b[38;5;124m\"\u001b[39m\u001b[38;5;124mcat_file_header\u001b[39m\u001b[38;5;124m\"\u001b[39m, \u001b[38;5;124m\"\u001b[39m\u001b[38;5;124mcat_file\u001b[39m\u001b[38;5;124m\"\u001b[39m, batch_check\u001b[38;5;241m=\u001b[39m\u001b[38;5;28;01mTrue\u001b[39;00m)\n\u001b[0;32m-> 1338\u001b[0m \u001b[38;5;28;01mreturn\u001b[39;00m \u001b[38;5;28;43mself\u001b[39;49m\u001b[38;5;241;43m.\u001b[39;49m\u001b[43m__get_object_header\u001b[49m\u001b[43m(\u001b[49m\u001b[43mcmd\u001b[49m\u001b[43m,\u001b[49m\u001b[43m \u001b[49m\u001b[43mref\u001b[49m\u001b[43m)\u001b[49m\n",
      "File \u001b[0;32m~/opt/anaconda3/lib/python3.8/site-packages/git/cmd.py:1324\u001b[0m, in \u001b[0;36mGit.__get_object_header\u001b[0;34m(self, cmd, ref)\u001b[0m\n\u001b[1;32m   1322\u001b[0m \u001b[38;5;28;01mif\u001b[39;00m cmd\u001b[38;5;241m.\u001b[39mstdin \u001b[38;5;129;01mand\u001b[39;00m cmd\u001b[38;5;241m.\u001b[39mstdout:\n\u001b[1;32m   1323\u001b[0m     cmd\u001b[38;5;241m.\u001b[39mstdin\u001b[38;5;241m.\u001b[39mwrite(\u001b[38;5;28mself\u001b[39m\u001b[38;5;241m.\u001b[39m_prepare_ref(ref))\n\u001b[0;32m-> 1324\u001b[0m     \u001b[43mcmd\u001b[49m\u001b[38;5;241;43m.\u001b[39;49m\u001b[43mstdin\u001b[49m\u001b[38;5;241;43m.\u001b[39;49m\u001b[43mflush\u001b[49m\u001b[43m(\u001b[49m\u001b[43m)\u001b[49m\n\u001b[1;32m   1325\u001b[0m     \u001b[38;5;28;01mreturn\u001b[39;00m \u001b[38;5;28mself\u001b[39m\u001b[38;5;241m.\u001b[39m_parse_object_header(cmd\u001b[38;5;241m.\u001b[39mstdout\u001b[38;5;241m.\u001b[39mreadline())\n\u001b[1;32m   1326\u001b[0m \u001b[38;5;28;01melse\u001b[39;00m:\n",
      "\u001b[0;31mBrokenPipeError\u001b[0m: [Errno 32] Broken pipe"
     ]
    }
   ],
   "source": [
    "while (True):\n",
    "    repo.remotes.origin.pull()\n",
    "    privKey = secrets.randbelow(curve.field.n) #b\n",
    "    pubKeyB = privKey * curve.g #B\n",
    "    \n",
    "    with open('pub_keyB.pickle', 'wb') as file_pubKeyB:\n",
    "        pickle.dump(pubKeyB, file_pubKeyB)\n",
    "        \n",
    "    repo.git.add(repo.working_dir)\n",
    "    commit_output = repo.git.commit(m=\"Llave pub Update\")\n",
    "    push_output = repo.git.push('--set-upstream', repo.remote().name, \"main\")\n",
    "        \n",
    "    time.sleep(7)\n",
    "    repo.remotes.origin.pull()\n",
    "\n",
    "    with open('encrypt_data.pickle', 'rb') as file_encrypt_data:\n",
    "        encryptedMsg = pickle.load(file_encrypt_data) #B\n",
    "        \n",
    "    encryptedMsgObj = {\n",
    "    'ciphertext': binascii.hexlify(encryptedMsg[0]),\n",
    "    'nonce': binascii.hexlify(encryptedMsg[1]),\n",
    "    'authTag': binascii.hexlify(encryptedMsg[2]),\n",
    "    'ciphertextPubKey': hex(encryptedMsg[3].x) + hex(encryptedMsg[3].y % 2)[2:]\n",
    "    }\n",
    "    decryptedMsg = decrypt_ECC(encryptedMsg, privKey)\n",
    "    print(\"decrypted msg:\", decryptedMsg.decode('UTF-8'))"
   ]
  },
  {
   "cell_type": "code",
   "execution_count": null,
   "id": "57d21a27",
   "metadata": {},
   "outputs": [],
   "source": [
    "repo.remotes.origin.pull()"
   ]
  },
  {
   "cell_type": "code",
   "execution_count": null,
   "id": "56972127",
   "metadata": {},
   "outputs": [],
   "source": []
  }
 ],
 "metadata": {
  "kernelspec": {
   "display_name": "Python 3",
   "language": "python",
   "name": "python3"
  },
  "language_info": {
   "codemirror_mode": {
    "name": "ipython",
    "version": 3
   },
   "file_extension": ".py",
   "mimetype": "text/x-python",
   "name": "python",
   "nbconvert_exporter": "python",
   "pygments_lexer": "ipython3",
   "version": "3.8.5"
  }
 },
 "nbformat": 4,
 "nbformat_minor": 5
}
