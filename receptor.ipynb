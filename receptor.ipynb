{
 "cells": [
  {
   "cell_type": "code",
   "execution_count": 1,
   "id": "36701e7d",
   "metadata": {},
   "outputs": [],
   "source": [
    "import git\n",
    "import pickle\n",
    "from tinyec import registry\n",
    "from Crypto.Cipher import AES\n",
    "import hashlib, secrets, binascii"
   ]
  },
  {
   "cell_type": "code",
   "execution_count": 2,
   "id": "ad900645",
   "metadata": {},
   "outputs": [],
   "source": [
    "def decrypt_AES_GCM(ciphertext, nonce, authTag, secretKey):\n",
    "    aesCipher = AES.new(secretKey, AES.MODE_GCM, nonce)\n",
    "    plaintext = aesCipher.decrypt_and_verify(ciphertext, authTag)\n",
    "    return plaintext\n",
    "\n",
    "def ecc_point_to_256_bit_key(point):\n",
    "    sha = hashlib.sha256(int.to_bytes(point.x, 32, 'big'))\n",
    "    sha.update(int.to_bytes(point.y, 32, 'big'))\n",
    "    return sha.digest()\n",
    "\n",
    "curve = registry.get_curve('brainpoolP256r1')\n",
    "\n",
    "def decrypt_ECC(encryptedMsg, privKey):\n",
    "    (ciphertext, nonce, authTag, ciphertextPubKey) = encryptedMsg\n",
    "    sharedECCKey = privKey * ciphertextPubKey\n",
    "    secretKey = ecc_point_to_256_bit_key(sharedECCKey)\n",
    "    plaintext = decrypt_AES_GCM(ciphertext, nonce, authTag, secretKey)\n",
    "    return plaintext"
   ]
  },
  {
   "cell_type": "code",
   "execution_count": 18,
   "id": "1642b0c4",
   "metadata": {},
   "outputs": [],
   "source": [
    "privKey = secrets.randbelow(curve.field.n) #b\n",
    "pubKeyB = privKey * curve.g #B\n",
    "\n",
    "with open('pub_keyTEST.pickle', 'wb') as f:\n",
    "    pickle.dump(pubKeyB, f)"
   ]
  },
  {
   "cell_type": "code",
   "execution_count": 53,
   "id": "bc556bb8",
   "metadata": {},
   "outputs": [],
   "source": [
    "with open('encrypt_data.pickle', 'rb') as f:\n",
    "    encryptedMsg = pickle.load(f) #B"
   ]
  },
  {
   "cell_type": "code",
   "execution_count": 55,
   "id": "cd2a713c",
   "metadata": {},
   "outputs": [
    {
     "name": "stdout",
     "output_type": "stream",
     "text": [
      "decrypted msg: 26 °C\n",
      "\n"
     ]
    }
   ],
   "source": [
    "encryptedMsgObj = {\n",
    "    'ciphertext': binascii.hexlify(encryptedMsg[0]),\n",
    "    'nonce': binascii.hexlify(encryptedMsg[1]),\n",
    "    'authTag': binascii.hexlify(encryptedMsg[2]),\n",
    "    'ciphertextPubKey': hex(encryptedMsg[3].x) + hex(encryptedMsg[3].y % 2)[2:]\n",
    "}\n",
    "decryptedMsg = decrypt_ECC(encryptedMsg, privKey)\n",
    "print(\"decrypted msg:\", decryptedMsg.decode('UTF-8'))"
   ]
  },
  {
   "cell_type": "code",
   "execution_count": 6,
   "id": "461b4e95",
   "metadata": {},
   "outputs": [
    {
     "data": {
      "text/plain": [
       "[<git.remote.FetchInfo at 0x7f7f0a504360>]"
      ]
     },
     "execution_count": 6,
     "metadata": {},
     "output_type": "execute_result"
    }
   ],
   "source": [
    "\n",
    "repo = git.Repo(\"/Users/Chris-OSX/Desktop/TEL252_Central_de_datos\")\n",
    "# pull down \n",
    "repo.remotes.origin.pull()"
   ]
  },
  {
   "cell_type": "code",
   "execution_count": 8,
   "id": "9c351a0c",
   "metadata": {},
   "outputs": [
    {
     "data": {
      "text/plain": [
       "[<git.remote.FetchInfo at 0x7f7f0a820db0>]"
      ]
     },
     "execution_count": 8,
     "metadata": {},
     "output_type": "execute_result"
    }
   ],
   "source": [
    "repo.remotes.origin.pull()"
   ]
  },
  {
   "cell_type": "code",
   "execution_count": 20,
   "id": "a227ca3e",
   "metadata": {},
   "outputs": [
    {
     "data": {
      "text/plain": [
       "<git.Remote \"pub_keyTEST\">"
      ]
     },
     "execution_count": 20,
     "metadata": {},
     "output_type": "execute_result"
    }
   ],
   "source": [
    "file = open('pub_keyTEST.pickle', 'rb')"
   ]
  },
  {
   "cell_type": "code",
   "execution_count": 34,
   "id": "5f105f88",
   "metadata": {},
   "outputs": [
    {
     "data": {
      "text/plain": [
       "\"Branch 'main' set up to track remote branch 'main' from 'origin'.\""
      ]
     },
     "execution_count": 34,
     "metadata": {},
     "output_type": "execute_result"
    }
   ],
   "source": [
    "#repo.remotes.origin.add(repo,\"pub_keyTEST\",\"/Users/Chris-OSX/Desktop/TEL252_Central_de_datos\")\n",
    "repo.git.add(repo.working_dir)\n",
    "commit_output = repo.git.commit(m=\"Commit msg\")\n",
    "push_output = repo.git.push('--set-upstream', repo.remote().name, \"main\")"
   ]
  },
  {
   "cell_type": "code",
   "execution_count": null,
   "id": "89407e06",
   "metadata": {},
   "outputs": [],
   "source": []
  }
 ],
 "metadata": {
  "kernelspec": {
   "display_name": "Python 3",
   "language": "python",
   "name": "python3"
  },
  "language_info": {
   "codemirror_mode": {
    "name": "ipython",
    "version": 3
   },
   "file_extension": ".py",
   "mimetype": "text/x-python",
   "name": "python",
   "nbconvert_exporter": "python",
   "pygments_lexer": "ipython3",
   "version": "3.8.5"
  }
 },
 "nbformat": 4,
 "nbformat_minor": 5
}
