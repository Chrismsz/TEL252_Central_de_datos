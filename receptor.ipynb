{
 "cells": [
  {
   "cell_type": "code",
   "execution_count": 74,
   "id": "57ae2377",
   "metadata": {},
   "outputs": [],
   "source": [
    "import git\n",
    "import time\n",
    "import pickle\n",
    "from tinyec import registry\n",
    "from Crypto.Cipher import AES\n",
    "import hashlib, secrets, binascii"
   ]
  },
  {
   "cell_type": "code",
   "execution_count": 75,
   "id": "49b76096",
   "metadata": {},
   "outputs": [],
   "source": [
    "def decrypt_AES_GCM(ciphertext, nonce, authTag, secretKey):\n",
    "    aesCipher = AES.new(secretKey, AES.MODE_GCM, nonce)\n",
    "    plaintext = aesCipher.decrypt_and_verify(ciphertext, authTag)\n",
    "    return plaintext\n",
    "\n",
    "def ecc_point_to_256_bit_key(point):\n",
    "    sha = hashlib.sha256(int.to_bytes(point.x, 32, 'big'))\n",
    "    sha.update(int.to_bytes(point.y, 32, 'big'))\n",
    "    return sha.digest()\n",
    "\n",
    "curve = registry.get_curve('brainpoolP256r1')\n",
    "\n",
    "def decrypt_ECC(encryptedMsg, privKey):\n",
    "    (ciphertext, nonce, authTag, ciphertextPubKey) = encryptedMsg\n",
    "    sharedECCKey = privKey * ciphertextPubKey\n",
    "    secretKey = ecc_point_to_256_bit_key(sharedECCKey)\n",
    "    plaintext = decrypt_AES_GCM(ciphertext, nonce, authTag, secretKey)\n",
    "    return plaintext"
   ]
  },
  {
   "cell_type": "code",
   "execution_count": 76,
   "id": "701508d0",
   "metadata": {},
   "outputs": [
    {
     "ename": "ValueError",
     "evalue": "MAC check failed",
     "output_type": "error",
     "traceback": [
      "\u001b[0;31m---------------------------------------------------------------------------\u001b[0m",
      "\u001b[0;31mValueError\u001b[0m                                Traceback (most recent call last)",
      "Input \u001b[0;32mIn [76]\u001b[0m, in \u001b[0;36m<cell line: 3>\u001b[0;34m()\u001b[0m\n\u001b[1;32m     18\u001b[0m     encryptedMsg \u001b[38;5;241m=\u001b[39m pickle\u001b[38;5;241m.\u001b[39mload(file_encrypt_data) \u001b[38;5;66;03m#B\u001b[39;00m\n\u001b[1;32m     20\u001b[0m encryptedMsgObj \u001b[38;5;241m=\u001b[39m {\n\u001b[1;32m     21\u001b[0m \u001b[38;5;124m'\u001b[39m\u001b[38;5;124mciphertext\u001b[39m\u001b[38;5;124m'\u001b[39m: binascii\u001b[38;5;241m.\u001b[39mhexlify(encryptedMsg[\u001b[38;5;241m0\u001b[39m]),\n\u001b[1;32m     22\u001b[0m \u001b[38;5;124m'\u001b[39m\u001b[38;5;124mnonce\u001b[39m\u001b[38;5;124m'\u001b[39m: binascii\u001b[38;5;241m.\u001b[39mhexlify(encryptedMsg[\u001b[38;5;241m1\u001b[39m]),\n\u001b[1;32m     23\u001b[0m \u001b[38;5;124m'\u001b[39m\u001b[38;5;124mauthTag\u001b[39m\u001b[38;5;124m'\u001b[39m: binascii\u001b[38;5;241m.\u001b[39mhexlify(encryptedMsg[\u001b[38;5;241m2\u001b[39m]),\n\u001b[1;32m     24\u001b[0m \u001b[38;5;124m'\u001b[39m\u001b[38;5;124mciphertextPubKey\u001b[39m\u001b[38;5;124m'\u001b[39m: \u001b[38;5;28mhex\u001b[39m(encryptedMsg[\u001b[38;5;241m3\u001b[39m]\u001b[38;5;241m.\u001b[39mx) \u001b[38;5;241m+\u001b[39m \u001b[38;5;28mhex\u001b[39m(encryptedMsg[\u001b[38;5;241m3\u001b[39m]\u001b[38;5;241m.\u001b[39my \u001b[38;5;241m%\u001b[39m \u001b[38;5;241m2\u001b[39m)[\u001b[38;5;241m2\u001b[39m:]\n\u001b[1;32m     25\u001b[0m }\n\u001b[0;32m---> 26\u001b[0m decryptedMsg \u001b[38;5;241m=\u001b[39m \u001b[43mdecrypt_ECC\u001b[49m\u001b[43m(\u001b[49m\u001b[43mencryptedMsg\u001b[49m\u001b[43m,\u001b[49m\u001b[43m \u001b[49m\u001b[43mprivKey\u001b[49m\u001b[43m)\u001b[49m\n\u001b[1;32m     27\u001b[0m \u001b[38;5;28mprint\u001b[39m(\u001b[38;5;124m\"\u001b[39m\u001b[38;5;124mdecrypted msg:\u001b[39m\u001b[38;5;124m\"\u001b[39m, decryptedMsg\u001b[38;5;241m.\u001b[39mdecode(\u001b[38;5;124m'\u001b[39m\u001b[38;5;124mUTF-8\u001b[39m\u001b[38;5;124m'\u001b[39m))\n",
      "Input \u001b[0;32mIn [75]\u001b[0m, in \u001b[0;36mdecrypt_ECC\u001b[0;34m(encryptedMsg, privKey)\u001b[0m\n\u001b[1;32m     15\u001b[0m sharedECCKey \u001b[38;5;241m=\u001b[39m privKey \u001b[38;5;241m*\u001b[39m ciphertextPubKey\n\u001b[1;32m     16\u001b[0m secretKey \u001b[38;5;241m=\u001b[39m ecc_point_to_256_bit_key(sharedECCKey)\n\u001b[0;32m---> 17\u001b[0m plaintext \u001b[38;5;241m=\u001b[39m \u001b[43mdecrypt_AES_GCM\u001b[49m\u001b[43m(\u001b[49m\u001b[43mciphertext\u001b[49m\u001b[43m,\u001b[49m\u001b[43m \u001b[49m\u001b[43mnonce\u001b[49m\u001b[43m,\u001b[49m\u001b[43m \u001b[49m\u001b[43mauthTag\u001b[49m\u001b[43m,\u001b[49m\u001b[43m \u001b[49m\u001b[43msecretKey\u001b[49m\u001b[43m)\u001b[49m\n\u001b[1;32m     18\u001b[0m \u001b[38;5;28;01mreturn\u001b[39;00m plaintext\n",
      "Input \u001b[0;32mIn [75]\u001b[0m, in \u001b[0;36mdecrypt_AES_GCM\u001b[0;34m(ciphertext, nonce, authTag, secretKey)\u001b[0m\n\u001b[1;32m      1\u001b[0m \u001b[38;5;28;01mdef\u001b[39;00m \u001b[38;5;21mdecrypt_AES_GCM\u001b[39m(ciphertext, nonce, authTag, secretKey):\n\u001b[1;32m      2\u001b[0m     aesCipher \u001b[38;5;241m=\u001b[39m AES\u001b[38;5;241m.\u001b[39mnew(secretKey, AES\u001b[38;5;241m.\u001b[39mMODE_GCM, nonce)\n\u001b[0;32m----> 3\u001b[0m     plaintext \u001b[38;5;241m=\u001b[39m \u001b[43maesCipher\u001b[49m\u001b[38;5;241;43m.\u001b[39;49m\u001b[43mdecrypt_and_verify\u001b[49m\u001b[43m(\u001b[49m\u001b[43mciphertext\u001b[49m\u001b[43m,\u001b[49m\u001b[43m \u001b[49m\u001b[43mauthTag\u001b[49m\u001b[43m)\u001b[49m\n\u001b[1;32m      4\u001b[0m     \u001b[38;5;28;01mreturn\u001b[39;00m plaintext\n",
      "File \u001b[0;32m~/opt/anaconda3/lib/python3.8/site-packages/Crypto/Cipher/_mode_gcm.py:567\u001b[0m, in \u001b[0;36mGcmMode.decrypt_and_verify\u001b[0;34m(self, ciphertext, received_mac_tag, output)\u001b[0m\n\u001b[1;32m    548\u001b[0m \u001b[38;5;124;03m\"\"\"Perform decrypt() and verify() in one step.\u001b[39;00m\n\u001b[1;32m    549\u001b[0m \n\u001b[1;32m    550\u001b[0m \u001b[38;5;124;03m:Parameters:\u001b[39;00m\n\u001b[0;32m   (...)\u001b[0m\n\u001b[1;32m    563\u001b[0m \u001b[38;5;124;03m    or the key is incorrect.\u001b[39;00m\n\u001b[1;32m    564\u001b[0m \u001b[38;5;124;03m\"\"\"\u001b[39;00m\n\u001b[1;32m    566\u001b[0m plaintext \u001b[38;5;241m=\u001b[39m \u001b[38;5;28mself\u001b[39m\u001b[38;5;241m.\u001b[39mdecrypt(ciphertext, output\u001b[38;5;241m=\u001b[39moutput)\n\u001b[0;32m--> 567\u001b[0m \u001b[38;5;28;43mself\u001b[39;49m\u001b[38;5;241;43m.\u001b[39;49m\u001b[43mverify\u001b[49m\u001b[43m(\u001b[49m\u001b[43mreceived_mac_tag\u001b[49m\u001b[43m)\u001b[49m\n\u001b[1;32m    568\u001b[0m \u001b[38;5;28;01mreturn\u001b[39;00m plaintext\n",
      "File \u001b[0;32m~/opt/anaconda3/lib/python3.8/site-packages/Crypto/Cipher/_mode_gcm.py:508\u001b[0m, in \u001b[0;36mGcmMode.verify\u001b[0;34m(self, received_mac_tag)\u001b[0m\n\u001b[1;32m    504\u001b[0m mac2 \u001b[38;5;241m=\u001b[39m BLAKE2s\u001b[38;5;241m.\u001b[39mnew(digest_bits\u001b[38;5;241m=\u001b[39m\u001b[38;5;241m160\u001b[39m, key\u001b[38;5;241m=\u001b[39msecret,\n\u001b[1;32m    505\u001b[0m                    data\u001b[38;5;241m=\u001b[39mreceived_mac_tag)\n\u001b[1;32m    507\u001b[0m \u001b[38;5;28;01mif\u001b[39;00m mac1\u001b[38;5;241m.\u001b[39mdigest() \u001b[38;5;241m!=\u001b[39m mac2\u001b[38;5;241m.\u001b[39mdigest():\n\u001b[0;32m--> 508\u001b[0m     \u001b[38;5;28;01mraise\u001b[39;00m \u001b[38;5;167;01mValueError\u001b[39;00m(\u001b[38;5;124m\"\u001b[39m\u001b[38;5;124mMAC check failed\u001b[39m\u001b[38;5;124m\"\u001b[39m)\n",
      "\u001b[0;31mValueError\u001b[0m: MAC check failed"
     ]
    }
   ],
   "source": [
    "repo = git.Repo(\"/Users/Chris-OSX/Desktop/TEL252_Central_de_datos\")\n",
    "while (True):\n",
    "    repo.remotes.origin.pull()\n",
    "    privKey = secrets.randbelow(curve.field.n) #b\n",
    "    pubKeyB = privKey * curve.g #B\n",
    "    \n",
    "    with open('pub_keyB.pickle', 'wb') as file_pubKeyB:\n",
    "        pickle.dump(pubKeyB, file_pubKeyB)\n",
    "        \n",
    "    repo.git.add(repo.working_dir)\n",
    "    commit_output = repo.git.commit(m=\"Llave pub Update\")\n",
    "    push_output = repo.git.push('--set-upstream', repo.remote().name, \"main\")\n",
    "        \n",
    "    time.sleep(4)\n",
    "    repo.remotes.origin.pull()\n",
    "\n",
    "    with open('encrypt_data.pickle', 'rb') as file_encrypt_data:\n",
    "        encryptedMsg = pickle.load(file_encrypt_data) #B\n",
    "        \n",
    "    encryptedMsgObj = {\n",
    "    'ciphertext': binascii.hexlify(encryptedMsg[0]),\n",
    "    'nonce': binascii.hexlify(encryptedMsg[1]),\n",
    "    'authTag': binascii.hexlify(encryptedMsg[2]),\n",
    "    'ciphertextPubKey': hex(encryptedMsg[3].x) + hex(encryptedMsg[3].y % 2)[2:]\n",
    "    }\n",
    "    decryptedMsg = decrypt_ECC(encryptedMsg, privKey)\n",
    "    print(\"decrypted msg:\", decryptedMsg.decode('UTF-8'))"
   ]
  },
  {
   "cell_type": "code",
   "execution_count": 73,
   "id": "0a6859d8",
   "metadata": {},
   "outputs": [
    {
     "data": {
      "text/plain": [
       "[<git.remote.FetchInfo at 0x7f7f0c4a11d0>]"
      ]
     },
     "execution_count": 73,
     "metadata": {},
     "output_type": "execute_result"
    }
   ],
   "source": [
    "repo.remotes.origin.pull()"
   ]
  },
  {
   "cell_type": "code",
   "execution_count": null,
   "id": "621a875f",
   "metadata": {},
   "outputs": [],
   "source": []
  }
 ],
 "metadata": {
  "kernelspec": {
   "display_name": "Python 3",
   "language": "python",
   "name": "python3"
  },
  "language_info": {
   "codemirror_mode": {
    "name": "ipython",
    "version": 3
   },
   "file_extension": ".py",
   "mimetype": "text/x-python",
   "name": "python",
   "nbconvert_exporter": "python",
   "pygments_lexer": "ipython3",
   "version": "3.8.5"
  }
 },
 "nbformat": 4,
 "nbformat_minor": 5
}
