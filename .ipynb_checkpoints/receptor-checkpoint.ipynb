{
 "cells": [
  {
   "cell_type": "code",
   "execution_count": 1,
   "id": "7146b87d",
   "metadata": {},
   "outputs": [],
   "source": [
    "import pickle\n",
    "from tinyec import registry\n",
    "from Crypto.Cipher import AES\n",
    "import hashlib, secrets, binascii"
   ]
  },
  {
   "cell_type": "code",
   "execution_count": 2,
   "id": "069022ab",
   "metadata": {},
   "outputs": [],
   "source": [
    "def decrypt_AES_GCM(ciphertext, nonce, authTag, secretKey):\n",
    "    aesCipher = AES.new(secretKey, AES.MODE_GCM, nonce)\n",
    "    plaintext = aesCipher.decrypt_and_verify(ciphertext, authTag)\n",
    "    return plaintext\n",
    "\n",
    "def ecc_point_to_256_bit_key(point):\n",
    "    sha = hashlib.sha256(int.to_bytes(point.x, 32, 'big'))\n",
    "    sha.update(int.to_bytes(point.y, 32, 'big'))\n",
    "    return sha.digest()\n",
    "\n",
    "curve = registry.get_curve('brainpoolP256r1')\n",
    "\n",
    "def decrypt_ECC(encryptedMsg, privKey):\n",
    "    (ciphertext, nonce, authTag, ciphertextPubKey) = encryptedMsg\n",
    "    sharedECCKey = privKey * ciphertextPubKey\n",
    "    secretKey = ecc_point_to_256_bit_key(sharedECCKey)\n",
    "    plaintext = decrypt_AES_GCM(ciphertext, nonce, authTag, secretKey)\n",
    "    return plaintext"
   ]
  },
  {
   "cell_type": "code",
   "execution_count": 3,
   "id": "17d4f761",
   "metadata": {},
   "outputs": [],
   "source": [
    "privKey = secrets.randbelow(curve.field.n) #b\n",
    "pubKeyB = privKey * curve.g #B\n",
    "\n",
    "with open('pub_keyB.pickle', 'wb') as f:\n",
    "    pickle.dump(pubKeyB, f)"
   ]
  },
  {
   "cell_type": "code",
   "execution_count": 53,
   "id": "aa1ec73e",
   "metadata": {},
   "outputs": [],
   "source": [
    "with open('encrypt_data.pickle', 'rb') as f:\n",
    "    encryptedMsg = pickle.load(f) #B"
   ]
  },
  {
   "cell_type": "code",
   "execution_count": 55,
   "id": "d2dcf664",
   "metadata": {},
   "outputs": [
    {
     "name": "stdout",
     "output_type": "stream",
     "text": [
      "decrypted msg: 26 °C\n",
      "\n"
     ]
    }
   ],
   "source": [
    "encryptedMsgObj = {\n",
    "    'ciphertext': binascii.hexlify(encryptedMsg[0]),\n",
    "    'nonce': binascii.hexlify(encryptedMsg[1]),\n",
    "    'authTag': binascii.hexlify(encryptedMsg[2]),\n",
    "    'ciphertextPubKey': hex(encryptedMsg[3].x) + hex(encryptedMsg[3].y % 2)[2:]\n",
    "}\n",
    "decryptedMsg = decrypt_ECC(encryptedMsg, privKey)\n",
    "print(\"decrypted msg:\", decryptedMsg.decode('UTF-8'))"
   ]
  }
 ],
 "metadata": {
  "kernelspec": {
   "display_name": "Python 3",
   "language": "python",
   "name": "python3"
  },
  "language_info": {
   "codemirror_mode": {
    "name": "ipython",
    "version": 3
   },
   "file_extension": ".py",
   "mimetype": "text/x-python",
   "name": "python",
   "nbconvert_exporter": "python",
   "pygments_lexer": "ipython3",
   "version": "3.8.5"
  }
 },
 "nbformat": 4,
 "nbformat_minor": 5
}
