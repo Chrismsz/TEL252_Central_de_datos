{
 "cells": [
  {
   "cell_type": "markdown",
   "metadata": {
    "id": "-Mk3P9s_uRD_"
   },
   "source": [
    "# Encriptacion y Desencriptacion usando ECC"
   ]
  },
  {
   "cell_type": "markdown",
   "metadata": {
    "id": "umID364FuaS2"
   },
   "source": [
    "### Herramientas usadas: python 3, ECC como generador de llave publica y privada y AES como metodo de encriptacion y desencriptacion"
   ]
  },
  {
   "cell_type": "markdown",
   "metadata": {
    "id": "-NSB5PbQ2sM_"
   },
   "source": [
    "#### Explicacion:\n",
    "El codigo lo que hace es generar valores enteros entre 23 y 37, simulando ser datos de temperaturas obtenidas por el sensor, que luego se almacenan en un bloc de notas de nombre \"temperaturas.txt\" que tambien es creado por el codigo.\n",
    "Luego se definen las funciones de encriptacion y desencriptacion con AES-GCM"
   ]
  },
  {
   "cell_type": "code",
   "execution_count": 1,
   "metadata": {
    "id": "C-gLRBxcNNdJ"
   },
   "outputs": [],
   "source": [
    "import random\n",
    "import time\n",
    "import requests\n",
    "import io\n",
    "import git\n",
    "from tinyec import registry\n",
    "from Crypto.Cipher import AES\n",
    "import hashlib, secrets, binascii\n",
    "import pickle "
   ]
  },
  {
   "cell_type": "markdown",
   "metadata": {
    "id": "7tH-KIUWuX0s"
   },
   "source": []
  },
  {
   "cell_type": "code",
   "execution_count": 2,
   "metadata": {
    "id": "iiiuE_F7NUB_"
   },
   "outputs": [],
   "source": [
    "with open(\"/Users/Chris-OSX/Cosas/temperaturas.txt\", \"w\") as w:\n",
    "    for n in range(0, 100):\n",
    "        w.write(str(random.randint(23, 37))+ \" °C\\n\")\n",
    "    "
   ]
  },
  {
   "cell_type": "code",
   "execution_count": 3,
   "metadata": {
    "id": "cBtLogT5umd3"
   },
   "outputs": [],
   "source": [
    "def encrypt_AES_GCM(msg, secretKey):\n",
    "  aesCipher = AES.new(secretKey, AES.MODE_GCM)\n",
    "  ciphertext, authTag = aesCipher.encrypt_and_digest(msg)\n",
    "  return (ciphertext, aesCipher.nonce, authTag)\n",
    "\n",
    "\n",
    "def ecc_point_to_256_bit_key(point):\n",
    "  sha = hashlib.sha256(int.to_bytes(point.x, 32, 'big'))\n",
    "  sha.update(int.to_bytes(point.y, 32, 'big'))\n",
    "  return sha.digest()\n",
    "\n",
    "curve = registry.get_curve('brainpoolP256r1')\n",
    "\n",
    "def encrypt_ECC(msg, pubKey):\n",
    "  ciphertextPrivKey = secrets.randbelow(curve.field.n) # a\n",
    "  sharedECCKey = ciphertextPrivKey * pubKey #a·B = T\n",
    "  secretKey = ecc_point_to_256_bit_key(sharedECCKey)\n",
    "  ciphertext, nonce, authTag = encrypt_AES_GCM(msg, secretKey)\n",
    "  ciphertextPubKey = ciphertextPrivKey * curve.g #A\n",
    "  return (ciphertext, nonce, authTag, ciphertextPubKey)\n"
   ]
  },
  {
   "cell_type": "code",
   "execution_count": 4,
   "metadata": {
    "colab": {
     "base_uri": "https://localhost:8080/",
     "height": 557
    },
    "id": "SvSn7nWINYE5",
    "outputId": "7d199a88-665b-4549-d0bc-5bcb52e97c04"
   },
   "outputs": [
    {
     "name": "stdout",
     "output_type": "stream",
     "text": [
      "original msg: 29 °C\n",
      "\n"
     ]
    },
    {
     "ename": "FileNotFoundError",
     "evalue": "[Errno 2] No such file or directory: '/content/TEL252_Central_de_datos/pub_keyB.pickle'",
     "output_type": "error",
     "traceback": [
      "\u001b[0;31m---------------------------------------------------------------------------\u001b[0m",
      "\u001b[0;31mFileNotFoundError\u001b[0m                         Traceback (most recent call last)",
      "Input \u001b[0;32mIn [4]\u001b[0m, in \u001b[0;36m<cell line: 5>\u001b[0;34m()\u001b[0m\n\u001b[1;32m      8\u001b[0m time\u001b[38;5;241m.\u001b[39msleep(\u001b[38;5;241m3\u001b[39m)\n\u001b[1;32m      9\u001b[0m repo\u001b[38;5;241m.\u001b[39mremotes\u001b[38;5;241m.\u001b[39morigin\u001b[38;5;241m.\u001b[39mpull()\n\u001b[0;32m---> 11\u001b[0m \u001b[38;5;28;01mwith\u001b[39;00m \u001b[38;5;28;43mopen\u001b[39;49m\u001b[43m(\u001b[49m\u001b[38;5;124;43m'\u001b[39;49m\u001b[38;5;124;43m/content/TEL252_Central_de_datos/pub_keyB.pickle\u001b[39;49m\u001b[38;5;124;43m'\u001b[39;49m\u001b[43m,\u001b[49m\u001b[43m \u001b[49m\u001b[38;5;124;43m'\u001b[39;49m\u001b[38;5;124;43mrb\u001b[39;49m\u001b[38;5;124;43m'\u001b[39;49m\u001b[43m)\u001b[49m \u001b[38;5;28;01mas\u001b[39;00m f:\n\u001b[1;32m     12\u001b[0m   pubKeyB \u001b[38;5;241m=\u001b[39m pickle\u001b[38;5;241m.\u001b[39mload(f) \u001b[38;5;66;03m#B\u001b[39;00m\n\u001b[1;32m     14\u001b[0m encryptedMsg \u001b[38;5;241m=\u001b[39m encrypt_ECC(msg, pubKeyB)\n",
      "\u001b[0;31mFileNotFoundError\u001b[0m: [Errno 2] No such file or directory: '/content/TEL252_Central_de_datos/pub_keyB.pickle'"
     ]
    }
   ],
   "source": [
    "f = open(\"/Users/Chris-OSX/Cosas/temperaturas.txt\", \"rb\")\n",
    "repo = git.Repo(\"/Users/Chris-OSX/Cosas/TEL252_Central_de_datos\")\n",
    "\n",
    "while(True):\n",
    "    msg = f.readline()\n",
    "    print(\"original msg:\", msg.decode('UTF-8'))\n",
    "\n",
    "    time.sleep(3)\n",
    "    repo.remotes.origin.pull()\n",
    "\n",
    "    with open('pub_keyB.pickle', 'rb') as f:\n",
    "      pubKeyB = pickle.load(f) #B\n",
    "\n",
    "    encryptedMsg = encrypt_ECC(msg, pubKeyB)\n",
    "    with open('encrypt_data.pickle', 'wb') as f:\n",
    "      pickle.dump(encryptedMsg, f)\n",
    "\n",
    "    encryptedMsgObj = {\n",
    "    'ciphertext': binascii.hexlify(encryptedMsg[0]),\n",
    "    'nonce': binascii.hexlify(encryptedMsg[1]),\n",
    "    'authTag': binascii.hexlify(encryptedMsg[2]),\n",
    "    'ciphertextPubKey': hex(encryptedMsg[3].x) + hex(encryptedMsg[3].y % 2)[2:]\n",
    "    }\n",
    "    print(\"encrypted msg:\", encryptedMsgObj)\n",
    "    \n",
    "    repo.git.add(repo.working_dir)\n",
    "    commit_output = repo.git.commit(m=\"Data Update\")\n",
    "    push_output = repo.git.push('--set-upstream', repo.remote().name, \"main\")\n",
    "\n",
    "    if not msg:\n",
    "        break\n",
    "f.close()\n"
   ]
  },
  {
   "cell_type": "code",
   "execution_count": null,
   "metadata": {
    "id": "hLruweckN87K"
   },
   "outputs": [],
   "source": [
    "repo.remotes.origin.pull()"
   ]
  },
  {
   "cell_type": "code",
   "execution_count": null,
   "metadata": {
    "id": "nDywkDE4bq7m"
   },
   "outputs": [],
   "source": [
    "#!git commit -m \"Test 1\""
   ]
  },
  {
   "cell_type": "code",
   "execution_count": null,
   "metadata": {
    "id": "JHSk4iP0bw6K"
   },
   "outputs": [],
   "source": [
    "#!git config --global user.email \"christopher.silva@sansano.usm.cl\""
   ]
  },
  {
   "cell_type": "code",
   "execution_count": null,
   "metadata": {
    "id": "qXV296Dyb0vB"
   },
   "outputs": [],
   "source": [
    "#!git config --global user.name \"Chrismsz\""
   ]
  },
  {
   "cell_type": "code",
   "execution_count": null,
   "metadata": {
    "id": "rk-0U1Q6gjDH"
   },
   "outputs": [],
   "source": []
  },
  {
   "cell_type": "code",
   "execution_count": null,
   "metadata": {
    "id": "0wQXVzLsdSi-"
   },
   "outputs": [],
   "source": [
    "!cd TEL252_Central_de_datos"
   ]
  },
  {
   "cell_type": "code",
   "execution_count": null,
   "metadata": {
    "colab": {
     "base_uri": "https://localhost:8080/",
     "height": 520
    },
    "id": "Yp6SzHTfdXOg",
    "outputId": "222248af-e8e1-4be2-d9bb-d08ab4ccd16f"
   },
   "outputs": [],
   "source": [
    "repo.git.add(repo.working_dir)\n",
    "commit_output = repo.git.commit(m=\"Data Update\")\n",
    "push_output = repo.git.push('--set-upstream', repo.remote().name, \"main\")"
   ]
  },
  {
   "cell_type": "code",
   "execution_count": null,
   "metadata": {
    "colab": {
     "base_uri": "https://localhost:8080/"
    },
    "id": "jepsK7x8dZrp",
    "outputId": "a12e6650-59e8-4df6-eb0e-b3fcbcb30d30"
   },
   "outputs": [],
   "source": [
    "cd .."
   ]
  },
  {
   "cell_type": "code",
   "execution_count": null,
   "metadata": {
    "colab": {
     "base_uri": "https://localhost:8080/"
    },
    "id": "ST8SRY2SjpAm",
    "outputId": "22ee28c4-5ea7-41a3-f2dd-5ec18a9e4db4"
   },
   "outputs": [],
   "source": [
    "!git remote set-url origin https://{Chrismsz}:{Esta pass es para git}@github.com/{Chrismsz}/https://github.com/Chrismsz/TEL252_Central_de_datos.git"
   ]
  },
  {
   "cell_type": "code",
   "execution_count": null,
   "metadata": {
    "id": "QuuahKjRkAnO"
   },
   "outputs": [],
   "source": []
  }
 ],
 "metadata": {
  "colab": {
   "provenance": []
  },
  "kernelspec": {
   "display_name": "Python 3",
   "language": "python",
   "name": "python3"
  },
  "language_info": {
   "codemirror_mode": {
    "name": "ipython",
    "version": 3
   },
   "file_extension": ".py",
   "mimetype": "text/x-python",
   "name": "python",
   "nbconvert_exporter": "python",
   "pygments_lexer": "ipython3",
   "version": "3.8.5"
  }
 },
 "nbformat": 4,
 "nbformat_minor": 1
}
