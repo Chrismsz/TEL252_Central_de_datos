{
 "cells": [
  {
   "cell_type": "markdown",
   "metadata": {
    "id": "-Mk3P9s_uRD_"
   },
   "source": [
    "# Encriptacion y Desencriptacion usando ECC"
   ]
  },
  {
   "cell_type": "markdown",
   "metadata": {
    "id": "umID364FuaS2"
   },
   "source": [
    "### Herramientas usadas: python 3, ECC como generador de llave publica y privada y AES como metodo de encriptacion y desencriptacion"
   ]
  },
  {
   "cell_type": "markdown",
   "metadata": {
    "id": "-NSB5PbQ2sM_"
   },
   "source": [
    "#### Explicacion:\n",
    "El codigo lo que hace es generar valores enteros entre 23 y 37, simulando ser datos de temperaturas obtenidas por el sensor, que luego se almacenan en un bloc de notas de nombre \"temperaturas.txt\" que tambien es creado por el codigo.\n",
    "Luego se definen las funciones de encriptacion y desencriptacion con AES-GCM"
   ]
  },
  {
   "cell_type": "code",
   "execution_count": 66,
   "metadata": {
    "id": "C-gLRBxcNNdJ"
   },
   "outputs": [],
   "source": [
    "import random\n",
    "import time\n",
    "import requests\n",
    "import io\n",
    "import git\n",
    "from tinyec import registry\n",
    "from Crypto.Cipher import AES\n",
    "import hashlib, secrets, binascii\n",
    "import pickle "
   ]
  },
  {
   "cell_type": "markdown",
   "metadata": {
    "id": "7tH-KIUWuX0s"
   },
   "source": []
  },
  {
   "cell_type": "code",
   "execution_count": 67,
   "metadata": {
    "id": "iiiuE_F7NUB_"
   },
   "outputs": [],
   "source": [
    "with open(\"/Users/Chris-OSX/Cosas/temperaturas.txt\", \"w\") as w:\n",
    "    for n in range(0, 10):\n",
    "        w.write(str(random.randint(23, 37))+ \" °C\\n\")\n",
    "    "
   ]
  },
  {
   "cell_type": "code",
   "execution_count": 68,
   "metadata": {
    "id": "cBtLogT5umd3"
   },
   "outputs": [],
   "source": [
    "def encrypt_AES_GCM(msg, secretKey):\n",
    "  aesCipher = AES.new(secretKey, AES.MODE_GCM)\n",
    "  ciphertext, authTag = aesCipher.encrypt_and_digest(msg)\n",
    "  return (ciphertext, aesCipher.nonce, authTag)\n",
    "\n",
    "\n",
    "def ecc_point_to_256_bit_key(point):\n",
    "  sha = hashlib.sha256(int.to_bytes(point.x, 32, 'big'))\n",
    "  sha.update(int.to_bytes(point.y, 32, 'big'))\n",
    "  return sha.digest()\n",
    "\n",
    "curve = registry.get_curve('brainpoolP256r1')\n",
    "\n",
    "def encrypt_ECC(msg, pubKey):\n",
    "  ciphertextPrivKey = secrets.randbelow(curve.field.n) # a\n",
    "  sharedECCKey = ciphertextPrivKey * pubKey #a·B = T\n",
    "  secretKey = ecc_point_to_256_bit_key(sharedECCKey)\n",
    "  ciphertext, nonce, authTag = encrypt_AES_GCM(msg, secretKey)\n",
    "  ciphertextPubKey = ciphertextPrivKey * curve.g #A\n",
    "  return (ciphertext, nonce, authTag, ciphertextPubKey)\n"
   ]
  },
  {
   "cell_type": "code",
   "execution_count": null,
   "metadata": {
    "colab": {
     "base_uri": "https://localhost:8080/",
     "height": 557
    },
    "id": "SvSn7nWINYE5",
    "outputId": "7d199a88-665b-4549-d0bc-5bcb52e97c04"
   },
   "outputs": [
    {
     "name": "stdout",
     "output_type": "stream",
     "text": [
      "original msg: 35 °C\n",
      "\n",
      "original msg: 37 °C\n",
      "\n",
      "original msg: 29 °C\n",
      "\n",
      "original msg: 25 °C\n",
      "\n",
      "original msg: 25 °C\n",
      "\n",
      "original msg: 24 °C\n",
      "\n",
      "original msg: 33 °C\n",
      "\n"
     ]
    }
   ],
   "source": [
    "f = open(\"/Users/Chris-OSX/Cosas/temperaturas.txt\", \"rb\")\n",
    "repo = git.Repo(\"/Users/Chris-OSX/Cosas/TEL252_Central_de_datos\")\n",
    "count = 0\n",
    "while(True):\n",
    "    count += 1\n",
    "    msg = f.readline()\n",
    "    print(\"original msg:\", msg.decode('UTF-8'))\n",
    "\n",
    "    time.sleep(2)\n",
    "    repo.remotes.origin.pull()\n",
    "\n",
    "    with open('pub_keyB.pickle', 'rb') as file_pubKeyB:\n",
    "      pubKeyB = pickle.load(file_pubKeyB) #B\n",
    "\n",
    "    encryptedMsg = encrypt_ECC(msg, pubKeyB)\n",
    "    with open('encrypt_data.pickle', 'wb') as file_encrypt_data:\n",
    "      pickle.dump(encryptedMsg, file_encrypt_data)\n",
    "\n",
    "    encryptedMsgObj = {\n",
    "    'ciphertext': binascii.hexlify(encryptedMsg[0]),\n",
    "    'nonce': binascii.hexlify(encryptedMsg[1]),\n",
    "    'authTag': binascii.hexlify(encryptedMsg[2]),\n",
    "    'ciphertextPubKey': hex(encryptedMsg[3].x) + hex(encryptedMsg[3].y % 2)[2:]\n",
    "    }\n",
    "    #print(\"encrypted msg:\", encryptedMsgObj)\n",
    "    \n",
    "    m = f\"{count} Data update\"\n",
    "    repo.git.add(repo.working_dir)\n",
    "    commit_output = repo.git.commit(m=m)\n",
    "    push_output = repo.git.push('--set-upstream', repo.remote().name, \"main\")\n",
    "    \n",
    "    time.sleep(5)\n",
    "    if not msg:\n",
    "        break\n",
    "f.close()\n"
   ]
  },
  {
   "cell_type": "code",
   "execution_count": null,
   "metadata": {},
   "outputs": [],
   "source": [
    "repo.remotes.origin.pull()"
   ]
  },
  {
   "cell_type": "code",
   "execution_count": null,
   "metadata": {},
   "outputs": [],
   "source": []
  }
 ],
 "metadata": {
  "colab": {
   "provenance": []
  },
  "kernelspec": {
   "display_name": "Python 3",
   "language": "python",
   "name": "python3"
  },
  "language_info": {
   "codemirror_mode": {
    "name": "ipython",
    "version": 3
   },
   "file_extension": ".py",
   "mimetype": "text/x-python",
   "name": "python",
   "nbconvert_exporter": "python",
   "pygments_lexer": "ipython3",
   "version": "3.8.5"
  }
 },
 "nbformat": 4,
 "nbformat_minor": 1
}
